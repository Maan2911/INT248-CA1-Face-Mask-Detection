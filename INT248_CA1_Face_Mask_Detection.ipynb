{
  "nbformat": 4,
  "nbformat_minor": 0,
  "metadata": {
    "colab": {
      "name": "INT248-CA1-Face-Mask-Detection",
      "provenance": [],
      "authorship_tag": "ABX9TyOCrK24onF4txVylNDKtSCi",
      "include_colab_link": true
    },
    "kernelspec": {
      "name": "python3",
      "display_name": "Python 3"
    },
    "language_info": {
      "name": "python"
    }
  },
  "cells": [
    {
      "cell_type": "markdown",
      "metadata": {
        "id": "view-in-github",
        "colab_type": "text"
      },
      "source": [
        "<a href=\"https://colab.research.google.com/github/Maan2911/INT248-CA1-Face-Mask-Detection/blob/main/INT248_CA1_Face_Mask_Detection.ipynb\" target=\"_parent\"><img src=\"https://colab.research.google.com/assets/colab-badge.svg\" alt=\"Open In Colab\"/></a>"
      ]
    },
    {
      "cell_type": "code",
      "metadata": {
        "colab": {
          "base_uri": "https://localhost:8080/"
        },
        "id": "88OCLTBLZcgu",
        "outputId": "267c5bd7-6cc7-47bb-d57f-1c5051117872"
      },
      "source": [
        "from google.colab import drive\n",
        "drive.mount('/content/drive')"
      ],
      "execution_count": null,
      "outputs": [
        {
          "output_type": "stream",
          "name": "stdout",
          "text": [
            "Mounted at /content/drive\n"
          ]
        }
      ]
    },
    {
      "cell_type": "code",
      "metadata": {
        "id": "Akpc6mI2Zt3g"
      },
      "source": [
        "import numpy as np\n",
        "import matplotlib.pyplot as plt\n",
        "import tensorflow as tf\n",
        "import argparse\n",
        "import cv2\n",
        "import os\n",
        "from tensorflow.keras.models import Model\n",
        "from tensorflow.keras.callbacks import EarlyStopping\n",
        "from tensorflow.keras.preprocessing.image import ImageDataGenerator\n"
      ],
      "execution_count": null,
      "outputs": []
    },
    {
      "cell_type": "code",
      "metadata": {
        "id": "XXVGdMnlbpUp"
      },
      "source": [
        ""
      ],
      "execution_count": null,
      "outputs": []
    },
    {
      "cell_type": "code",
      "metadata": {
        "id": "-WafQmJmZyYl"
      },
      "source": [
        "train_gen=ImageDataGenerator(\n",
        "rescale=1/255,\n",
        "validation_split=0.2)\n",
        "\n",
        "test_gen=ImageDataGenerator(rescale=1./255)"
      ],
      "execution_count": null,
      "outputs": []
    },
    {
      "cell_type": "code",
      "metadata": {
        "colab": {
          "base_uri": "https://localhost:8080/"
        },
        "id": "OWYJv8l7Z4BJ",
        "outputId": "b5475e59-4b09-4d82-eb5a-d19bb9fba467"
      },
      "source": [
        "input=layers.Input(shape=(224,224,3))\n",
        "\n",
        "x=layers.Conv2D(16,3,activation=\"relu\")(input)\n",
        "x=layers.BatchNormalization()(x)\n",
        "x=layers.MaxPooling2D((2,2))(x)\n",
        "\n",
        "\n",
        "x=layers.Conv2D(32,3,activation=\"relu\")(x)\n",
        "x=layers.BatchNormalization()(x)\n",
        "x=layers.MaxPooling2D((2,2))(x)\n",
        "\n",
        "\n",
        "x=layers.Flatten()(x)\n",
        "x=layers.Dense(64,activation=\"relu\")(x)\n",
        "x=layers.Dropout(0.3)(x)\n",
        "x=layers.Dense(32,activation=\"relu\")(x)\n",
        "output=layers.Dense(1,activation=\"sigmoid\")(x)\n",
        "\n",
        "model=Model(input,output)\n",
        "\n",
        "model.summary()\n"
      ],
      "execution_count": null,
      "outputs": [
        {
          "output_type": "stream",
          "name": "stdout",
          "text": [
            "Model: \"model\"\n",
            "_________________________________________________________________\n",
            " Layer (type)                Output Shape              Param #   \n",
            "=================================================================\n",
            " input_1 (InputLayer)        [(None, 224, 224, 3)]     0         \n",
            "                                                                 \n",
            " conv2d (Conv2D)             (None, 222, 222, 16)      448       \n",
            "                                                                 \n",
            " batch_normalization (BatchN  (None, 222, 222, 16)     64        \n",
            " ormalization)                                                   \n",
            "                                                                 \n",
            " max_pooling2d (MaxPooling2D  (None, 111, 111, 16)     0         \n",
            " )                                                               \n",
            "                                                                 \n",
            " conv2d_1 (Conv2D)           (None, 109, 109, 32)      4640      \n",
            "                                                                 \n",
            " batch_normalization_1 (Batc  (None, 109, 109, 32)     128       \n",
            " hNormalization)                                                 \n",
            "                                                                 \n",
            " max_pooling2d_1 (MaxPooling  (None, 54, 54, 32)       0         \n",
            " 2D)                                                             \n",
            "                                                                 \n",
            " flatten (Flatten)           (None, 93312)             0         \n",
            "                                                                 \n",
            " dense (Dense)               (None, 64)                5972032   \n",
            "                                                                 \n",
            " dropout (Dropout)           (None, 64)                0         \n",
            "                                                                 \n",
            " dense_1 (Dense)             (None, 32)                2080      \n",
            "                                                                 \n",
            " dense_2 (Dense)             (None, 1)                 33        \n",
            "                                                                 \n",
            "=================================================================\n",
            "Total params: 5,979,425\n",
            "Trainable params: 5,979,329\n",
            "Non-trainable params: 96\n",
            "_________________________________________________________________\n"
          ]
        }
      ]
    },
    {
      "cell_type": "code",
      "metadata": {
        "id": "qGdspCXDZ_rw"
      },
      "source": [
        "model.compile(optimizer=\"adam\",loss=\"binary_crossentropy\",metrics=[\"accuracy\"])"
      ],
      "execution_count": null,
      "outputs": []
    },
    {
      "cell_type": "code",
      "metadata": {
        "id": "w6kUYM0Qa3OY"
      },
      "source": [
        "def process_images(input_file_path):\n",
        "\t# load the input image from disk, clone it, and grab the image spatial\n",
        "  # dimensions\n",
        "\timage = cv2.imread(input_file_path)\n",
        "\t# orig = image.copy()\n",
        "\t(h, w) = image.shape[:2]\n",
        "\n",
        "\t# construct a blob from the image\n",
        "\tblob = cv2.dnn.blobFromImage(image, 1.0, (300, 300),\n",
        "\t\t(104.0, 177.0, 123.0))\n"
      ],
      "execution_count": null,
      "outputs": []
    },
    {
      "cell_type": "code",
      "metadata": {
        "id": "lQqzku5tdZUX"
      },
      "source": [
        "mask_dict={\n",
        "    'incorrect': list(data_dir.glob('mask_weared_incorrect/*')),\n",
        "    'with_mask': list(data_dir.glob('with_mask/*')),\n",
        "    'without_mask': list(data_dir.glob('without_mask/*')),\n",
        "}"
      ],
      "execution_count": null,
      "outputs": []
    },
    {
      "cell_type": "code",
      "metadata": {
        "id": "5QPZ8EytSavo"
      },
      "source": [
        "mask_labels={\n",
        "    'incorrect': 0,\n",
        "    'with_mask': 1,\n",
        "    'without_mask': 2,\n",
        "}"
      ],
      "execution_count": null,
      "outputs": []
    },
    {
      "cell_type": "code",
      "metadata": {
        "id": "TWafSfvHSfwY"
      },
      "source": [
        "x, y=[],[]\n",
        "for mask_name, images in mask_dict.items():\n",
        "    for image in images:\n",
        "        img=cv2.imread(str(image))\n",
        "        x.append(img)\n",
        "        y.append(mask_labels[mask_name])"
      ],
      "execution_count": null,
      "outputs": []
    },
    {
      "cell_type": "code",
      "metadata": {
        "id": "02EJOmztSreH"
      },
      "source": [
        "len(x)"
      ],
      "execution_count": null,
      "outputs": []
    },
    {
      "cell_type": "code",
      "metadata": {
        "id": "cndQo76uTFhu"
      },
      "source": [
        "class_labels=[0,1,2,3]\n",
        "import sklearn.metrics as metrics\n",
        "report = metrics.classification_report(y_test, pred_classes, class_labels)\n",
        "print(report) \n",
        "from sklearn.metrics import confusion_matrix\n",
        "confusion_matrix(y_test, pred_classes)"
      ],
      "execution_count": null,
      "outputs": []
    }
  ]
}