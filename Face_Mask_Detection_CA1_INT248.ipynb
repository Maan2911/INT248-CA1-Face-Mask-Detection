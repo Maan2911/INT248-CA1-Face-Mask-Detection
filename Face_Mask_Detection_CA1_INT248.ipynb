{
  "nbformat": 4,
  "nbformat_minor": 0,
  "metadata": {
    "colab": {
      "name": "Face Mask Detection CA1 INT248",
      "provenance": [],
      "authorship_tag": "ABX9TyNvFZyFPjLtp98i2fg4Zgw+",
      "include_colab_link": true
    },
    "kernelspec": {
      "name": "python3",
      "display_name": "Python 3"
    },
    "language_info": {
      "name": "python"
    }
  },
  "cells": [
    {
      "cell_type": "markdown",
      "metadata": {
        "id": "view-in-github",
        "colab_type": "text"
      },
      "source": [
        "<a href=\"https://colab.research.google.com/github/Maan2911/INT248-CA1-Face-Mask-Detection/blob/main/Face_Mask_Detection_CA1_INT248.ipynb\" target=\"_parent\"><img src=\"https://colab.research.google.com/assets/colab-badge.svg\" alt=\"Open In Colab\"/></a>"
      ]
    },
    {
      "cell_type": "code",
      "metadata": {
        "colab": {
          "base_uri": "https://localhost:8080/"
        },
        "id": "mIrDjKRPUSqW",
        "outputId": "40c57906-4061-4a2b-df39-198caca41011"
      },
      "source": [
        "from google.colab import drive\n",
        "drive.mount('/content/drive')"
      ],
      "execution_count": 1,
      "outputs": [
        {
          "output_type": "stream",
          "name": "stdout",
          "text": [
            "Mounted at /content/drive\n"
          ]
        }
      ]
    },
    {
      "cell_type": "code",
      "metadata": {
        "id": "JYuGF4ZYVFg8"
      },
      "source": [
        "import zipfile\n",
        "with zipfile.ZipFile('/content/drive/My Drive/Face Mask Detection.zip', 'r') as zip_ref:\n",
        "    zip_ref.extractall('/content/drive/My Drive/')"
      ],
      "execution_count": 4,
      "outputs": []
    },
    {
      "cell_type": "code",
      "metadata": {
        "id": "E898RFYcZTPM"
      },
      "source": [
        ""
      ],
      "execution_count": null,
      "outputs": []
    },
    {
      "cell_type": "code",
      "metadata": {
        "colab": {
          "base_uri": "https://localhost:8080/"
        },
        "id": "IFFLJMmiVZDp",
        "outputId": "d83d2e1d-23c3-4da3-bb0d-d7e8fb8fa1d9"
      },
      "source": [
        "%cd /content/drive/My\\ Drive/Face Mask Detection"
      ],
      "execution_count": 5,
      "outputs": [
        {
          "output_type": "stream",
          "name": "stdout",
          "text": [
            "/content/drive/My Drive/Face Mask Detection\n"
          ]
        }
      ]
    },
    {
      "cell_type": "code",
      "metadata": {
        "id": "AKJtJlIbWMBH"
      },
      "source": [
        "from tensorflow.keras.applications.mobilenet_v2 import preprocess_input\n",
        "from tensorflow.keras.preprocessing.image import img_to_array\n",
        "from tensorflow.keras.models import load_model\n",
        "import numpy as np\n",
        "import argparse\n",
        "import cv2\n",
        "import os\n",
        "from google.colab.patches import cv2_imshow\n",
        "from natsort import natsorted, ns"
      ],
      "execution_count": 8,
      "outputs": []
    },
    {
      "cell_type": "code",
      "metadata": {
        "id": "mtxdiJyXYHBr"
      },
      "source": [
        "def plotCorrelationMatrix(df, graphWidth):\n",
        "    filename = df.dataframeName\n",
        "    df = df.dropna('columns') # drop columns with NaN\n",
        "    df = df[[col for col in df if df[col].nunique() > 1]] # keep columns where there are more than 1 unique values\n",
        "    if df.shape[1] < 2:\n",
        "        print(f'No correlation plots shown: The number of non-NaN or constant columns ({df.shape[1]}) is less than 2')\n",
        "        return\n",
        "    corr = df.corr()\n",
        "    plt.figure(num=None, figsize=(graphWidth, graphWidth), dpi=80, facecolor='w', edgecolor='k')\n",
        "    corrMat = plt.matshow(corr, fignum = 1)\n",
        "    plt.xticks(range(len(corr.columns)), corr.columns, rotation=90)\n",
        "    plt.yticks(range(len(corr.columns)), corr.columns)\n",
        "    plt.gca().xaxis.tick_bottom()\n",
        "    plt.colorbar(corrMat)\n",
        "    plt.title(f'Correlation Matrix for {filename}', fontsize=15)\n",
        "    plt.show()\n"
      ],
      "execution_count": 11,
      "outputs": []
    },
    {
      "cell_type": "code",
      "metadata": {
        "id": "wOGu1guhYJPa"
      },
      "source": [
        "def plotScatterMatrix(df, plotSize, textSize):\n",
        "    df = df.select_dtypes(include =[np.number]) # keep only numerical columns\n",
        "    # Remove rows and columns that would lead to df being singular\n",
        "    df = df.dropna('columns')\n",
        "    df = df[[col for col in df if df[col].nunique() > 1]] # keep columns where there are more than 1 unique values\n",
        "    columnNames = list(df)\n",
        "    if len(columnNames) > 10: # reduce the number of columns for matrix inversion of kernel density plots\n",
        "        columnNames = columnNames[:10]\n",
        "    df = df[columnNames]\n",
        "    ax = pd.plotting.scatter_matrix(df, alpha=0.75, figsize=[plotSize, plotSize], diagonal='kde')\n",
        "    corrs = df.corr().values\n",
        "    for i, j in zip(*plt.np.triu_indices_from(ax, k = 1)):\n",
        "        ax[i, j].annotate('Corr. coef = %.3f' % corrs[i, j], (0.8, 0.2), xycoords='axes fraction', ha='center', va='center', size=textSize)\n",
        "    plt.suptitle('Scatter and Density Plot')\n",
        "    plt.show()"
      ],
      "execution_count": 12,
      "outputs": []
    },
    {
      "cell_type": "code",
      "metadata": {
        "id": "vrNv0fVEZU6Y"
      },
      "source": [
        "class_name = ['Incorrect','With_Mask','Without_Mask']"
      ],
      "execution_count": 17,
      "outputs": []
    },
    {
      "cell_type": "code",
      "metadata": {
        "id": "2d8XE6R3arxj"
      },
      "source": [
        "train_gen=ImageDataGenerator(\n",
        "rescale=1/255,\n",
        "validation_split=0.2)\n",
        "\n",
        "test_gen=ImageDataGenerator(rescale=1./255)"
      ],
      "execution_count": 23,
      "outputs": []
    },
    {
      "cell_type": "code",
      "metadata": {
        "colab": {
          "base_uri": "https://localhost:8080/"
        },
        "id": "9-S8SY0satXd",
        "outputId": "829b200a-fefe-46ac-b29b-62e603b75fc1"
      },
      "source": [
        "input=layers.Input(shape=(224,224,3))\n",
        "\n",
        "x=layers.Conv2D(16,3,activation=\"relu\")(input)\n",
        "x=layers.BatchNormalization()(x)\n",
        "x=layers.MaxPooling2D((2,2))(x)\n",
        "\n",
        "\n",
        "x=layers.Conv2D(32,3,activation=\"relu\")(x)\n",
        "x=layers.BatchNormalization()(x)\n",
        "x=layers.MaxPooling2D((2,2))(x)\n",
        "\n",
        "\n",
        "x=layers.Flatten()(x)\n",
        "x=layers.Dense(64,activation=\"relu\")(x)\n",
        "x=layers.Dropout(0.3)(x)\n",
        "x=layers.Dense(32,activation=\"relu\")(x)\n",
        "output=layers.Dense(1,activation=\"sigmoid\")(x)\n",
        "\n",
        "model=Model(input,output)\n",
        "\n",
        "model.summary()\n"
      ],
      "execution_count": 24,
      "outputs": [
        {
          "output_type": "stream",
          "name": "stdout",
          "text": [
            "Model: \"model\"\n",
            "_________________________________________________________________\n",
            " Layer (type)                Output Shape              Param #   \n",
            "=================================================================\n",
            " input_1 (InputLayer)        [(None, 224, 224, 3)]     0         \n",
            "                                                                 \n",
            " conv2d (Conv2D)             (None, 222, 222, 16)      448       \n",
            "                                                                 \n",
            " batch_normalization (BatchN  (None, 222, 222, 16)     64        \n",
            " ormalization)                                                   \n",
            "                                                                 \n",
            " max_pooling2d (MaxPooling2D  (None, 111, 111, 16)     0         \n",
            " )                                                               \n",
            "                                                                 \n",
            " conv2d_1 (Conv2D)           (None, 109, 109, 32)      4640      \n",
            "                                                                 \n",
            " batch_normalization_1 (Batc  (None, 109, 109, 32)     128       \n",
            " hNormalization)                                                 \n",
            "                                                                 \n",
            " max_pooling2d_1 (MaxPooling  (None, 54, 54, 32)       0         \n",
            " 2D)                                                             \n",
            "                                                                 \n",
            " flatten (Flatten)           (None, 93312)             0         \n",
            "                                                                 \n",
            " dense (Dense)               (None, 64)                5972032   \n",
            "                                                                 \n",
            " dropout (Dropout)           (None, 64)                0         \n",
            "                                                                 \n",
            " dense_1 (Dense)             (None, 32)                2080      \n",
            "                                                                 \n",
            " dense_2 (Dense)             (None, 1)                 33        \n",
            "                                                                 \n",
            "=================================================================\n",
            "Total params: 5,979,425\n",
            "Trainable params: 5,979,329\n",
            "Non-trainable params: 96\n",
            "_________________________________________________________________\n"
          ]
        }
      ]
    },
    {
      "cell_type": "code",
      "metadata": {
        "id": "B4_HsaIoa0tf"
      },
      "source": [
        "model.compile(optimizer=\"adam\",loss=\"binary_crossentropy\",metrics=[\"accuracy\"])"
      ],
      "execution_count": 25,
      "outputs": []
    },
    {
      "cell_type": "code",
      "metadata": {
        "id": "-emSMz8Nbmbv"
      },
      "source": [
        "mask_dict={\n",
        "    'incorrect': list(data_dir.glob('mask_weared_incorrect/*')),\n",
        "    'with_mask': list(data_dir.glob('with_mask/*')),\n",
        "    'without_mask': list(data_dir.glob('without_mask/*')),\n",
        "}"
      ],
      "execution_count": null,
      "outputs": []
    },
    {
      "cell_type": "code",
      "metadata": {
        "id": "c6gqmQ6RbqJY"
      },
      "source": [
        "mask_labels={\n",
        "    'incorrect': 0,\n",
        "    'with_mask': 1,\n",
        "    'without_mask': 2,\n",
        "}"
      ],
      "execution_count": null,
      "outputs": []
    },
    {
      "cell_type": "code",
      "metadata": {
        "id": "CaAd7J2tbucD"
      },
      "source": [
        "x, y=[],[]\n",
        "for mask_name, images in mask_dict.items():\n",
        "    for image in images:\n",
        "        img=cv2.imread(str(image))\n",
        "        x.append(img)\n",
        "        y.append(mask_labels[mask_name])"
      ],
      "execution_count": null,
      "outputs": []
    },
    {
      "cell_type": "code",
      "metadata": {
        "id": "WXEzVBfObx17"
      },
      "source": [
        "len(x)"
      ],
      "execution_count": null,
      "outputs": []
    },
    {
      "cell_type": "code",
      "metadata": {
        "id": "hAiPw3mSb57-"
      },
      "source": [
        "class_labels=[0,1,2,3]\n",
        "import sklearn.metrics as metrics\n",
        "report = metrics.classification_report(y_test, pred_classes, class_labels)\n",
        "print(report) \n",
        "from sklearn.metrics import confusion_matrix\n",
        "confusion_matrix(y_test, pred_classes)"
      ],
      "execution_count": null,
      "outputs": []
    }
  ]
}